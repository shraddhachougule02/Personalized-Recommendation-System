{
 "cells": [
  {
   "cell_type": "code",
   "execution_count": 13,
   "id": "515a0776",
   "metadata": {},
   "outputs": [],
   "source": [
    "import pandas as pd\n",
    "df=pd.read_csv(r\"../Data/cleaned_data.csv\")\n"
   ]
  },
  {
   "cell_type": "code",
   "execution_count": 14,
   "id": "fddee8dd",
   "metadata": {},
   "outputs": [
    {
     "name": "stdout",
     "output_type": "stream",
     "text": [
      "✅ Done: Merged interaction data created and saved.\n"
     ]
    }
   ],
   "source": [
    "import numpy as np\n",
    "import random\n",
    "\n",
    "\n",
    "# --- 1. Generate Synthetic User Profiles ---\n",
    "num_users = 500\n",
    "user_ids = [f\"user_{i:03}\" for i in range(1, num_users + 1)]\n",
    "skin_types = [\"Oily\", \"Dry\", \"Combination\", \"Sensitive\", \"Normal\"]\n",
    "\n",
    "user_profiles = []\n",
    "\n",
    "for uid in user_ids:\n",
    "    profile = {\n",
    "        \"user_id\": uid,\n",
    "        \"age\": np.random.randint(16, 60),\n",
    "        \"skin_type\": random.choice(skin_types),\n",
    "    }\n",
    "    user_profiles.append(profile)\n",
    "\n",
    "user_df = pd.DataFrame(user_profiles)\n",
    "\n",
    "# --- 2. Generate Interactions Based on Matching Skin Type ---\n",
    "interaction_types = [\"viewed\", \"liked\", \"added_to_cart\", \"purchased\"]\n",
    "interactions = []\n",
    "\n",
    "product_ids = df['product_id'].tolist()\n",
    "\n",
    "for user in user_ids:\n",
    "    n_interactions = np.random.randint(10, 30)\n",
    "    user_skin = user_df.loc[user_df['user_id'] == user, 'skin_type'].values[0]\n",
    "\n",
    "    # Filter products with matching skin type\n",
    "    suitable_products = df[df['skintype_list'] == user_skin]['product_id'].tolist()\n",
    "\n",
    "    # Fallback if too few matching products\n",
    "    if len(suitable_products) < n_interactions:\n",
    "        suitable_products = product_ids\n",
    "\n",
    "    chosen_products = np.random.choice(suitable_products, size=n_interactions, replace=True)\n",
    "\n",
    "    for pid in chosen_products:\n",
    "        interaction = {\n",
    "            \"user_id\": user,\n",
    "            \"product_id\": pid,\n",
    "            \"interaction_type\": random.choices(\n",
    "                interaction_types, weights=[0.5, 0.25, 0.15, 0.1], k=1\n",
    "            )[0],\n",
    "        }\n",
    "        interactions.append(interaction)\n",
    "\n",
    "interaction_df = pd.DataFrame(interactions)\n",
    "\n",
    "# --- 3. Assign Scores ---\n",
    "interaction_weights = {\n",
    "    \"viewed\": 1,\n",
    "    \"liked\": 2,\n",
    "    \"added_to_cart\": 3,\n",
    "    \"purchased\": 5\n",
    "}\n",
    "interaction_df[\"score\"] = interaction_df[\"interaction_type\"].map(interaction_weights)\n",
    "\n",
    "# --- 4. Merge with User Info ---\n",
    "merged_df = interaction_df.merge(user_df, on='user_id', how='left')\n",
    "\n",
    "# --- 5. Save Files ---\n",
    "merged_df.to_csv(\"../Data/merged_user_interaction_data.csv\", index=False)\n",
    "user_df.to_csv(\"../Data/synthetic_user_profiles.csv\", index=False)\n",
    "\n",
    "print(\"✅ Done: Merged interaction data created and saved.\")\n",
    "\n",
    "\n",
    "\n",
    "\n",
    "\n"
   ]
  },
  {
   "cell_type": "code",
   "execution_count": null,
   "id": "28af0601",
   "metadata": {},
   "outputs": [],
   "source": []
  },
  {
   "cell_type": "code",
   "execution_count": null,
   "id": "28be5e70",
   "metadata": {},
   "outputs": [],
   "source": []
  }
 ],
 "metadata": {
  "kernelspec": {
   "display_name": "env",
   "language": "python",
   "name": "python3"
  },
  "language_info": {
   "codemirror_mode": {
    "name": "ipython",
    "version": 3
   },
   "file_extension": ".py",
   "mimetype": "text/x-python",
   "name": "python",
   "nbconvert_exporter": "python",
   "pygments_lexer": "ipython3",
   "version": "3.12.5"
  }
 },
 "nbformat": 4,
 "nbformat_minor": 5
}
