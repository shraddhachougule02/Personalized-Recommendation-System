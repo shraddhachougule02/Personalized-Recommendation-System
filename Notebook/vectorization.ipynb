{
 "cells": [
  {
   "cell_type": "code",
   "execution_count": 17,
   "id": "50fcfe55",
   "metadata": {},
   "outputs": [
    {
     "data": {
      "text/html": [
       "<div>\n",
       "<style scoped>\n",
       "    .dataframe tbody tr th:only-of-type {\n",
       "        vertical-align: middle;\n",
       "    }\n",
       "\n",
       "    .dataframe tbody tr th {\n",
       "        vertical-align: top;\n",
       "    }\n",
       "\n",
       "    .dataframe thead th {\n",
       "        text-align: right;\n",
       "    }\n",
       "</style>\n",
       "<table border=\"1\" class=\"dataframe\">\n",
       "  <thead>\n",
       "    <tr style=\"text-align: right;\">\n",
       "      <th></th>\n",
       "      <th>product_href</th>\n",
       "      <th>product_name</th>\n",
       "      <th>product_type</th>\n",
       "      <th>brand</th>\n",
       "      <th>price</th>\n",
       "      <th>description</th>\n",
       "      <th>picture_src</th>\n",
       "      <th>Sensitive</th>\n",
       "      <th>Combination</th>\n",
       "      <th>Oily</th>\n",
       "      <th>Dry</th>\n",
       "      <th>Normal</th>\n",
       "      <th>skintype_list</th>\n",
       "      <th>notable_effects_list</th>\n",
       "      <th>product_id</th>\n",
       "    </tr>\n",
       "  </thead>\n",
       "  <tbody>\n",
       "    <tr>\n",
       "      <th>0</th>\n",
       "      <td>https://www.beautyhaul.com/product/detail/bubb...</td>\n",
       "      <td>ACWELL Bubble Free PH Balancing Cleanser</td>\n",
       "      <td>Face Wash</td>\n",
       "      <td>ACWELL</td>\n",
       "      <td>209000</td>\n",
       "      <td>Mengangkat kotoran dan menghapus makeup dalam ...</td>\n",
       "      <td>https://www.beautyhaul.com/assets/uploads/prod...</td>\n",
       "      <td>0</td>\n",
       "      <td>0</td>\n",
       "      <td>1</td>\n",
       "      <td>0</td>\n",
       "      <td>0</td>\n",
       "      <td>['Oily']</td>\n",
       "      <td>['Acne-Free', 'Pore-Care', 'Brightening', 'Ant...</td>\n",
       "      <td>prod_0</td>\n",
       "    </tr>\n",
       "    <tr>\n",
       "      <th>1</th>\n",
       "      <td>https://www.sociolla.com/face-wash/62452-ph-ba...</td>\n",
       "      <td>ACWELL pH Balancing Soothing Cleansing Foam</td>\n",
       "      <td>Face Wash</td>\n",
       "      <td>ACWELL</td>\n",
       "      <td>181800</td>\n",
       "      <td>Membersihkan dan menenangkan kulit sensitif de...</td>\n",
       "      <td>https://images.soco.id/8f08ced0-344d-41f4-a15e...</td>\n",
       "      <td>0</td>\n",
       "      <td>1</td>\n",
       "      <td>0</td>\n",
       "      <td>1</td>\n",
       "      <td>1</td>\n",
       "      <td>['Normal', 'Dry', 'Combination']</td>\n",
       "      <td>['Soothing', 'Balancing']</td>\n",
       "      <td>prod_1</td>\n",
       "    </tr>\n",
       "    <tr>\n",
       "      <th>2</th>\n",
       "      <td>https://www.sociolla.com/toner/15871-licorice-...</td>\n",
       "      <td>Acwell Licorice pH Balancing Cleansing Toner</td>\n",
       "      <td>Toner</td>\n",
       "      <td>ACWELL</td>\n",
       "      <td>149000</td>\n",
       "      <td>Mengangkat sisa kotoran, debu, dan make up sek...</td>\n",
       "      <td>https://www.soco.id/cdn-cgi/image/w=73,format=...</td>\n",
       "      <td>1</td>\n",
       "      <td>1</td>\n",
       "      <td>1</td>\n",
       "      <td>1</td>\n",
       "      <td>1</td>\n",
       "      <td>['Normal', 'Dry', 'Oily', 'Combination', 'Sens...</td>\n",
       "      <td>['Soothing', 'Balancing']</td>\n",
       "      <td>prod_2</td>\n",
       "    </tr>\n",
       "    <tr>\n",
       "      <th>3</th>\n",
       "      <td>https://www.beautyhaul.com/product/detail/aqua...</td>\n",
       "      <td>ACWELL Aquaseal Soothing Tonic</td>\n",
       "      <td>Toner</td>\n",
       "      <td>ACWELL</td>\n",
       "      <td>290000</td>\n",
       "      <td>Pre-essence yang diformulasikan dengan ekstrak...</td>\n",
       "      <td>https://www.beautyhaul.com/assets/uploads/prod...</td>\n",
       "      <td>0</td>\n",
       "      <td>0</td>\n",
       "      <td>1</td>\n",
       "      <td>0</td>\n",
       "      <td>0</td>\n",
       "      <td>['Oily']</td>\n",
       "      <td>['Acne-Free', 'Pore-Care', 'Brightening', 'Ant...</td>\n",
       "      <td>prod_3</td>\n",
       "    </tr>\n",
       "    <tr>\n",
       "      <th>4</th>\n",
       "      <td>https://www.sociolla.com/essence/38023-licoric...</td>\n",
       "      <td>Licorice pH Balancing Essence Mist</td>\n",
       "      <td>Toner</td>\n",
       "      <td>ACWELL</td>\n",
       "      <td>194650</td>\n",
       "      <td>Essens mist dengan kelembapan tinggi yang memb...</td>\n",
       "      <td>https://www.sociolla.com/cdn-cgi/image/w=425,f...</td>\n",
       "      <td>0</td>\n",
       "      <td>0</td>\n",
       "      <td>0</td>\n",
       "      <td>1</td>\n",
       "      <td>1</td>\n",
       "      <td>['Normal', 'Dry']</td>\n",
       "      <td>['Brightening', 'Soothing']</td>\n",
       "      <td>prod_4</td>\n",
       "    </tr>\n",
       "  </tbody>\n",
       "</table>\n",
       "</div>"
      ],
      "text/plain": [
       "                                        product_href  \\\n",
       "0  https://www.beautyhaul.com/product/detail/bubb...   \n",
       "1  https://www.sociolla.com/face-wash/62452-ph-ba...   \n",
       "2  https://www.sociolla.com/toner/15871-licorice-...   \n",
       "3  https://www.beautyhaul.com/product/detail/aqua...   \n",
       "4  https://www.sociolla.com/essence/38023-licoric...   \n",
       "\n",
       "                                    product_name product_type    brand  \\\n",
       "0       ACWELL Bubble Free PH Balancing Cleanser    Face Wash  ACWELL    \n",
       "1    ACWELL pH Balancing Soothing Cleansing Foam    Face Wash  ACWELL    \n",
       "2  Acwell Licorice pH Balancing Cleansing Toner         Toner  ACWELL    \n",
       "3                ACWELL Aquaseal Soothing Tonic         Toner  ACWELL    \n",
       "4             Licorice pH Balancing Essence Mist        Toner  ACWELL    \n",
       "\n",
       "    price                                        description  \\\n",
       "0  209000  Mengangkat kotoran dan menghapus makeup dalam ...   \n",
       "1  181800  Membersihkan dan menenangkan kulit sensitif de...   \n",
       "2  149000  Mengangkat sisa kotoran, debu, dan make up sek...   \n",
       "3  290000  Pre-essence yang diformulasikan dengan ekstrak...   \n",
       "4  194650  Essens mist dengan kelembapan tinggi yang memb...   \n",
       "\n",
       "                                         picture_src  Sensitive  Combination  \\\n",
       "0  https://www.beautyhaul.com/assets/uploads/prod...          0            0   \n",
       "1  https://images.soco.id/8f08ced0-344d-41f4-a15e...          0            1   \n",
       "2  https://www.soco.id/cdn-cgi/image/w=73,format=...          1            1   \n",
       "3  https://www.beautyhaul.com/assets/uploads/prod...          0            0   \n",
       "4  https://www.sociolla.com/cdn-cgi/image/w=425,f...          0            0   \n",
       "\n",
       "   Oily  Dry  Normal                                      skintype_list  \\\n",
       "0     1    0       0                                           ['Oily']   \n",
       "1     0    1       1                   ['Normal', 'Dry', 'Combination']   \n",
       "2     1    1       1  ['Normal', 'Dry', 'Oily', 'Combination', 'Sens...   \n",
       "3     1    0       0                                           ['Oily']   \n",
       "4     0    1       1                                  ['Normal', 'Dry']   \n",
       "\n",
       "                                notable_effects_list product_id  \n",
       "0  ['Acne-Free', 'Pore-Care', 'Brightening', 'Ant...     prod_0  \n",
       "1                          ['Soothing', 'Balancing']     prod_1  \n",
       "2                          ['Soothing', 'Balancing']     prod_2  \n",
       "3  ['Acne-Free', 'Pore-Care', 'Brightening', 'Ant...     prod_3  \n",
       "4                        ['Brightening', 'Soothing']     prod_4  "
      ]
     },
     "execution_count": 17,
     "metadata": {},
     "output_type": "execute_result"
    }
   ],
   "source": [
    "import pandas as pd\n",
    "df=pd.read_csv(r\"../Data/cleaned_data.csv\")\n",
    "df.head()\n",
    "\n"
   ]
  },
  {
   "cell_type": "code",
   "execution_count": null,
   "id": "2f27ea09",
   "metadata": {},
   "outputs": [],
   "source": [
    "\n",
    "    "
   ]
  },
  {
   "cell_type": "code",
   "execution_count": 18,
   "id": "79bb8159",
   "metadata": {},
   "outputs": [],
   "source": [
    "def combine_text(row):\n",
    "    return (\n",
    "        f\"Product: {row['product_name']}. \"\n",
    "        f\"Type: {row['product_type']}. \"\n",
    "        f\"Brand: {row['brand']}. \"\n",
    "        f\"Description: {row['description']}. \"\n",
    "        f\"Skin Types: {', '.join(row['skintype_list'])}. \"\n",
    "        f\"Effects: {', '.join(row['notable_effects_list'])}.\"\n",
    "    )\n",
    "\n",
    "df['combined_text'] = df.apply(combine_text, axis=1)\n"
   ]
  },
  {
   "cell_type": "code",
   "execution_count": 19,
   "id": "143a8970",
   "metadata": {},
   "outputs": [
    {
     "data": {
      "text/plain": [
       "0       Product: ACWELL Bubble Free PH Balancing Clean...\n",
       "1       Product: ACWELL pH Balancing Soothing Cleansin...\n",
       "2       Product: Acwell Licorice pH Balancing Cleansin...\n",
       "3       Product: ACWELL Aquaseal Soothing Tonic . Type...\n",
       "4       Product: Licorice pH Balancing Essence Mist. T...\n",
       "                              ...                        \n",
       "1188    Product: Whitelab Brightening Day Cream . Type...\n",
       "1189    Product: YOU The Radiance White Purifying Faci...\n",
       "1190    Product: YOU Basic Skin Care Simply Fresh and ...\n",
       "1191    Product: YOU Dazzling Glow Up Facial Foam. Typ...\n",
       "1192    Product: YOU Golden Age Deep Cleansing Facial ...\n",
       "Name: combined_text, Length: 1193, dtype: object"
      ]
     },
     "execution_count": 19,
     "metadata": {},
     "output_type": "execute_result"
    }
   ],
   "source": [
    "df['combined_text']"
   ]
  },
  {
   "cell_type": "code",
   "execution_count": 20,
   "id": "be27072d",
   "metadata": {},
   "outputs": [],
   "source": [
    "from sentence_transformers import SentenceTransformer\n",
    "model = SentenceTransformer('all-MiniLM-L6-v2')\n"
   ]
  },
  {
   "cell_type": "code",
   "execution_count": 21,
   "id": "7dd5fc9b",
   "metadata": {},
   "outputs": [],
   "source": [
    "#!pip install sentence-transformers\n",
    "\n"
   ]
  },
  {
   "cell_type": "code",
   "execution_count": 22,
   "id": "0fa5535b",
   "metadata": {},
   "outputs": [],
   "source": [
    " # convert the column to a list of strings\n",
    "corpus = df['combined_text'].tolist() \n"
   ]
  },
  {
   "cell_type": "code",
   "execution_count": 23,
   "id": "fbe95b4d",
   "metadata": {},
   "outputs": [
    {
     "name": "stderr",
     "output_type": "stream",
     "text": [
      "Batches: 100%|██████████| 38/38 [00:52<00:00,  1.39s/it]\n"
     ]
    }
   ],
   "source": [
    "embeddings = model.encode(corpus, show_progress_bar=True)\n"
   ]
  },
  {
   "cell_type": "code",
   "execution_count": 24,
   "id": "5e6ac18a",
   "metadata": {},
   "outputs": [],
   "source": [
    "df['embedding'] = embeddings.tolist()\n"
   ]
  },
  {
   "cell_type": "code",
   "execution_count": 25,
   "id": "9936759d",
   "metadata": {},
   "outputs": [],
   "source": [
    "import numpy as np\n",
    "np.save('../Embeddings/product_embeddings.npy', embeddings)\n",
    "df.to_pickle('../Embeddings/product_data_with_embeddings.pkl')\n"
   ]
  },
  {
   "cell_type": "code",
   "execution_count": 26,
   "id": "dd4936a6",
   "metadata": {},
   "outputs": [],
   "source": [
    "from sklearn.metrics.pairwise import cosine_similarity\n",
    "import numpy as np\n",
    "\n",
    "def semantic_search(query, model, df, embeddings, top_k=5):\n",
    "    # Encode the user query into a vector\n",
    "    query_vec = model.encode([query])\n",
    "    \n",
    "    # Calculate cosine similarity between the query vector and product embeddings\n",
    "    similarities = cosine_similarity(query_vec, embeddings)[0]\n",
    "    \n",
    "    # Get the indices of top-k most similar products\n",
    "    top_indices = similarities.argsort()[-top_k:][::-1]\n",
    "    \n",
    "    # Return the top-k products with similarity scores\n",
    "    results = df.iloc[top_indices].copy()\n",
    "    results['similarity'] = similarities[top_indices]\n",
    "    return results[['product_name', 'brand', 'product_type', 'description', 'similarity']]\n"
   ]
  },
  {
   "cell_type": "code",
   "execution_count": 27,
   "id": "e41c31c7",
   "metadata": {},
   "outputs": [
    {
     "name": "stdout",
     "output_type": "stream",
     "text": [
      "                                          product_name       brand  \\\n",
      "213  CLINIQUE Moisture Surge 100Hour Auto-Replenish...   CLINIQUE    \n",
      "841  SAFI Dermasafe Soothe & Hydrate Day Moisturize...       SAFI    \n",
      "337   Erha ERHA X AQUA Re-fresh Hydrating Face Mist...        ERHA   \n",
      "292        ELSHE SKIN Hydra Boost Oil Free Moisturizer  ELSHE SKIN   \n",
      "291      ELSHE SKIN Deep Hydrating Calming Moisturizer  ELSHE SKIN   \n",
      "\n",
      "    product_type                                        description  \\\n",
      "213  Moisturizer  What it is: An oil-free gel-cream moisturiser ...   \n",
      "841  Moisturizer  Krim pagi dengan tekstur gel yang mengandung A...   \n",
      "337  Moisturizer  Hydrating Face Mist – Penyegar wajah dengan ca...   \n",
      "292  Moisturizer                                             #NAME?   \n",
      "291  Moisturizer  -Hydrate, Soothing and Moisturize -Mencegah TE...   \n",
      "\n",
      "     similarity  \n",
      "213    0.594770  \n",
      "841    0.560025  \n",
      "337    0.541834  \n",
      "292    0.536644  \n",
      "291    0.535172  \n"
     ]
    }
   ],
   "source": [
    "query=\"hydrating moisturizer for dry skin\"\n",
    "output=semantic_search(query,model,df,embeddings,top_k=5)\n",
    "print(output)"
   ]
  },
  {
   "cell_type": "code",
   "execution_count": null,
   "id": "127318f3",
   "metadata": {},
   "outputs": [],
   "source": []
  },
  {
   "cell_type": "code",
   "execution_count": null,
   "id": "accedd60",
   "metadata": {},
   "outputs": [],
   "source": []
  }
 ],
 "metadata": {
  "kernelspec": {
   "display_name": "env",
   "language": "python",
   "name": "python3"
  },
  "language_info": {
   "codemirror_mode": {
    "name": "ipython",
    "version": 3
   },
   "file_extension": ".py",
   "mimetype": "text/x-python",
   "name": "python",
   "nbconvert_exporter": "python",
   "pygments_lexer": "ipython3",
   "version": "3.12.5"
  }
 },
 "nbformat": 4,
 "nbformat_minor": 5
}
