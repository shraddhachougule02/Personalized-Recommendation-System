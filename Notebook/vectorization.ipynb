{
 "cells": [
  {
   "cell_type": "code",
   "execution_count": 6,
   "id": "50fcfe55",
   "metadata": {},
   "outputs": [
    {
     "data": {
      "text/html": [
       "<div>\n",
       "<style scoped>\n",
       "    .dataframe tbody tr th:only-of-type {\n",
       "        vertical-align: middle;\n",
       "    }\n",
       "\n",
       "    .dataframe tbody tr th {\n",
       "        vertical-align: top;\n",
       "    }\n",
       "\n",
       "    .dataframe thead th {\n",
       "        text-align: right;\n",
       "    }\n",
       "</style>\n",
       "<table border=\"1\" class=\"dataframe\">\n",
       "  <thead>\n",
       "    <tr style=\"text-align: right;\">\n",
       "      <th></th>\n",
       "      <th>product_href</th>\n",
       "      <th>product_name</th>\n",
       "      <th>product_type</th>\n",
       "      <th>brand</th>\n",
       "      <th>price</th>\n",
       "      <th>description</th>\n",
       "      <th>picture_src</th>\n",
       "      <th>Sensitive</th>\n",
       "      <th>Combination</th>\n",
       "      <th>Oily</th>\n",
       "      <th>Dry</th>\n",
       "      <th>Normal</th>\n",
       "      <th>skintype_list</th>\n",
       "      <th>notable_effects_list</th>\n",
       "    </tr>\n",
       "  </thead>\n",
       "  <tbody>\n",
       "    <tr>\n",
       "      <th>0</th>\n",
       "      <td>https://www.beautyhaul.com/product/detail/bubb...</td>\n",
       "      <td>ACWELL Bubble Free PH Balancing Cleanser</td>\n",
       "      <td>Face Wash</td>\n",
       "      <td>ACWELL</td>\n",
       "      <td>209000</td>\n",
       "      <td>Mengangkat kotoran dan menghapus makeup dalam ...</td>\n",
       "      <td>https://www.beautyhaul.com/assets/uploads/prod...</td>\n",
       "      <td>0</td>\n",
       "      <td>0</td>\n",
       "      <td>1</td>\n",
       "      <td>0</td>\n",
       "      <td>0</td>\n",
       "      <td>['Oily']</td>\n",
       "      <td>['Acne-Free', 'Pore-Care', 'Brightening', 'Ant...</td>\n",
       "    </tr>\n",
       "    <tr>\n",
       "      <th>1</th>\n",
       "      <td>https://www.sociolla.com/face-wash/62452-ph-ba...</td>\n",
       "      <td>ACWELL pH Balancing Soothing Cleansing Foam</td>\n",
       "      <td>Face Wash</td>\n",
       "      <td>ACWELL</td>\n",
       "      <td>181800</td>\n",
       "      <td>Membersihkan dan menenangkan kulit sensitif de...</td>\n",
       "      <td>https://images.soco.id/8f08ced0-344d-41f4-a15e...</td>\n",
       "      <td>0</td>\n",
       "      <td>1</td>\n",
       "      <td>0</td>\n",
       "      <td>1</td>\n",
       "      <td>1</td>\n",
       "      <td>['Normal', 'Dry', 'Combination']</td>\n",
       "      <td>['Soothing', 'Balancing']</td>\n",
       "    </tr>\n",
       "    <tr>\n",
       "      <th>2</th>\n",
       "      <td>https://www.sociolla.com/toner/15871-licorice-...</td>\n",
       "      <td>Acwell Licorice pH Balancing Cleansing Toner</td>\n",
       "      <td>Toner</td>\n",
       "      <td>ACWELL</td>\n",
       "      <td>149000</td>\n",
       "      <td>Mengangkat sisa kotoran, debu, dan make up sek...</td>\n",
       "      <td>https://www.soco.id/cdn-cgi/image/w=73,format=...</td>\n",
       "      <td>1</td>\n",
       "      <td>1</td>\n",
       "      <td>1</td>\n",
       "      <td>1</td>\n",
       "      <td>1</td>\n",
       "      <td>['Normal', 'Dry', 'Oily', 'Combination', 'Sens...</td>\n",
       "      <td>['Soothing', 'Balancing']</td>\n",
       "    </tr>\n",
       "    <tr>\n",
       "      <th>3</th>\n",
       "      <td>https://www.beautyhaul.com/product/detail/aqua...</td>\n",
       "      <td>ACWELL Aquaseal Soothing Tonic</td>\n",
       "      <td>Toner</td>\n",
       "      <td>ACWELL</td>\n",
       "      <td>290000</td>\n",
       "      <td>Pre-essence yang diformulasikan dengan ekstrak...</td>\n",
       "      <td>https://www.beautyhaul.com/assets/uploads/prod...</td>\n",
       "      <td>0</td>\n",
       "      <td>0</td>\n",
       "      <td>1</td>\n",
       "      <td>0</td>\n",
       "      <td>0</td>\n",
       "      <td>['Oily']</td>\n",
       "      <td>['Acne-Free', 'Pore-Care', 'Brightening', 'Ant...</td>\n",
       "    </tr>\n",
       "    <tr>\n",
       "      <th>4</th>\n",
       "      <td>https://www.sociolla.com/essence/38023-licoric...</td>\n",
       "      <td>Licorice pH Balancing Essence Mist</td>\n",
       "      <td>Toner</td>\n",
       "      <td>ACWELL</td>\n",
       "      <td>194650</td>\n",
       "      <td>Essens mist dengan kelembapan tinggi yang memb...</td>\n",
       "      <td>https://www.sociolla.com/cdn-cgi/image/w=425,f...</td>\n",
       "      <td>0</td>\n",
       "      <td>0</td>\n",
       "      <td>0</td>\n",
       "      <td>1</td>\n",
       "      <td>1</td>\n",
       "      <td>['Normal', 'Dry']</td>\n",
       "      <td>['Brightening', 'Soothing']</td>\n",
       "    </tr>\n",
       "  </tbody>\n",
       "</table>\n",
       "</div>"
      ],
      "text/plain": [
       "                                        product_href  \\\n",
       "0  https://www.beautyhaul.com/product/detail/bubb...   \n",
       "1  https://www.sociolla.com/face-wash/62452-ph-ba...   \n",
       "2  https://www.sociolla.com/toner/15871-licorice-...   \n",
       "3  https://www.beautyhaul.com/product/detail/aqua...   \n",
       "4  https://www.sociolla.com/essence/38023-licoric...   \n",
       "\n",
       "                                    product_name product_type    brand  \\\n",
       "0       ACWELL Bubble Free PH Balancing Cleanser    Face Wash  ACWELL    \n",
       "1    ACWELL pH Balancing Soothing Cleansing Foam    Face Wash  ACWELL    \n",
       "2  Acwell Licorice pH Balancing Cleansing Toner         Toner  ACWELL    \n",
       "3                ACWELL Aquaseal Soothing Tonic         Toner  ACWELL    \n",
       "4             Licorice pH Balancing Essence Mist        Toner  ACWELL    \n",
       "\n",
       "    price                                        description  \\\n",
       "0  209000  Mengangkat kotoran dan menghapus makeup dalam ...   \n",
       "1  181800  Membersihkan dan menenangkan kulit sensitif de...   \n",
       "2  149000  Mengangkat sisa kotoran, debu, dan make up sek...   \n",
       "3  290000  Pre-essence yang diformulasikan dengan ekstrak...   \n",
       "4  194650  Essens mist dengan kelembapan tinggi yang memb...   \n",
       "\n",
       "                                         picture_src  Sensitive  Combination  \\\n",
       "0  https://www.beautyhaul.com/assets/uploads/prod...          0            0   \n",
       "1  https://images.soco.id/8f08ced0-344d-41f4-a15e...          0            1   \n",
       "2  https://www.soco.id/cdn-cgi/image/w=73,format=...          1            1   \n",
       "3  https://www.beautyhaul.com/assets/uploads/prod...          0            0   \n",
       "4  https://www.sociolla.com/cdn-cgi/image/w=425,f...          0            0   \n",
       "\n",
       "   Oily  Dry  Normal                                      skintype_list  \\\n",
       "0     1    0       0                                           ['Oily']   \n",
       "1     0    1       1                   ['Normal', 'Dry', 'Combination']   \n",
       "2     1    1       1  ['Normal', 'Dry', 'Oily', 'Combination', 'Sens...   \n",
       "3     1    0       0                                           ['Oily']   \n",
       "4     0    1       1                                  ['Normal', 'Dry']   \n",
       "\n",
       "                                notable_effects_list  \n",
       "0  ['Acne-Free', 'Pore-Care', 'Brightening', 'Ant...  \n",
       "1                          ['Soothing', 'Balancing']  \n",
       "2                          ['Soothing', 'Balancing']  \n",
       "3  ['Acne-Free', 'Pore-Care', 'Brightening', 'Ant...  \n",
       "4                        ['Brightening', 'Soothing']  "
      ]
     },
     "execution_count": 6,
     "metadata": {},
     "output_type": "execute_result"
    }
   ],
   "source": [
    "import pandas as pd\n",
    "df=pd.read_csv(r\"../Data/cleaned_data.csv\")\n",
    "df.head()\n",
    "\n"
   ]
  },
  {
   "cell_type": "code",
   "execution_count": null,
   "id": "2f27ea09",
   "metadata": {},
   "outputs": [],
   "source": [
    "\n",
    "    "
   ]
  },
  {
   "cell_type": "code",
   "execution_count": 7,
   "id": "79bb8159",
   "metadata": {},
   "outputs": [],
   "source": [
    "def combine_text(row):\n",
    "    return (\n",
    "        f\"Product: {row['product_name']}. \"\n",
    "        f\"Type: {row['product_type']}. \"\n",
    "        f\"Brand: {row['brand']}. \"\n",
    "        f\"Description: {row['description']}. \"\n",
    "        f\"Skin Types: {', '.join(row['skintype_list'])}. \"\n",
    "        f\"Effects: {', '.join(row['notable_effects_list'])}.\"\n",
    "    )\n",
    "\n",
    "df['combined_text'] = df.apply(combine_text, axis=1)\n"
   ]
  },
  {
   "cell_type": "code",
   "execution_count": 8,
   "id": "143a8970",
   "metadata": {},
   "outputs": [
    {
     "data": {
      "text/plain": [
       "0       Product: ACWELL Bubble Free PH Balancing Clean...\n",
       "1       Product: ACWELL pH Balancing Soothing Cleansin...\n",
       "2       Product: Acwell Licorice pH Balancing Cleansin...\n",
       "3       Product: ACWELL Aquaseal Soothing Tonic . Type...\n",
       "4       Product: Licorice pH Balancing Essence Mist. T...\n",
       "                              ...                        \n",
       "1188    Product: Whitelab Brightening Day Cream . Type...\n",
       "1189    Product: YOU The Radiance White Purifying Faci...\n",
       "1190    Product: YOU Basic Skin Care Simply Fresh and ...\n",
       "1191    Product: YOU Dazzling Glow Up Facial Foam. Typ...\n",
       "1192    Product: YOU Golden Age Deep Cleansing Facial ...\n",
       "Name: combined_text, Length: 1193, dtype: object"
      ]
     },
     "execution_count": 8,
     "metadata": {},
     "output_type": "execute_result"
    }
   ],
   "source": [
    "df['combined_text']"
   ]
  },
  {
   "cell_type": "code",
   "execution_count": 15,
   "id": "be27072d",
   "metadata": {},
   "outputs": [
    {
     "name": "stderr",
     "output_type": "stream",
     "text": [
      "e:\\Data science projects\\Personalized recommendation\\env\\Lib\\site-packages\\huggingface_hub\\file_download.py:143: UserWarning: `huggingface_hub` cache-system uses symlinks by default to efficiently store duplicated files but your machine does not support them in C:\\Users\\Shraddha\\.cache\\huggingface\\hub\\models--sentence-transformers--all-MiniLM-L6-v2. Caching files will still work but in a degraded version that might require more space on your disk. This warning can be disabled by setting the `HF_HUB_DISABLE_SYMLINKS_WARNING` environment variable. For more details, see https://huggingface.co/docs/huggingface_hub/how-to-cache#limitations.\n",
      "To support symlinks on Windows, you either need to activate Developer Mode or to run Python as an administrator. In order to activate developer mode, see this article: https://docs.microsoft.com/en-us/windows/apps/get-started/enable-your-device-for-development\n",
      "  warnings.warn(message)\n",
      "Xet Storage is enabled for this repo, but the 'hf_xet' package is not installed. Falling back to regular HTTP download. For better performance, install the package with: `pip install huggingface_hub[hf_xet]` or `pip install hf_xet`\n"
     ]
    }
   ],
   "source": [
    "from sentence_transformers import SentenceTransformer\n",
    "model = SentenceTransformer('all-MiniLM-L6-v2')\n"
   ]
  },
  {
   "cell_type": "code",
   "execution_count": null,
   "id": "7dd5fc9b",
   "metadata": {},
   "outputs": [
    {
     "name": "stdout",
     "output_type": "stream",
     "text": [
      "Collecting sentence-transformers\n",
      "  Using cached sentence_transformers-5.0.0-py3-none-any.whl.metadata (16 kB)\n",
      "Collecting transformers<5.0.0,>=4.41.0 (from sentence-transformers)\n",
      "  Downloading transformers-4.53.3-py3-none-any.whl.metadata (40 kB)\n",
      "Collecting tqdm (from sentence-transformers)\n",
      "  Using cached tqdm-4.67.1-py3-none-any.whl.metadata (57 kB)\n",
      "Collecting torch>=1.11.0 (from sentence-transformers)\n",
      "  Using cached torch-2.7.1-cp312-cp312-win_amd64.whl.metadata (28 kB)\n",
      "Requirement already satisfied: scikit-learn in e:\\data science projects\\personalized recommendation\\env\\lib\\site-packages (from sentence-transformers) (1.7.1)\n",
      "Requirement already satisfied: scipy in e:\\data science projects\\personalized recommendation\\env\\lib\\site-packages (from sentence-transformers) (1.16.0)\n",
      "Collecting huggingface-hub>=0.20.0 (from sentence-transformers)\n",
      "  Using cached huggingface_hub-0.33.4-py3-none-any.whl.metadata (14 kB)\n",
      "Requirement already satisfied: Pillow in e:\\data science projects\\personalized recommendation\\env\\lib\\site-packages (from sentence-transformers) (11.3.0)\n",
      "Collecting typing_extensions>=4.5.0 (from sentence-transformers)\n",
      "  Using cached typing_extensions-4.14.1-py3-none-any.whl.metadata (3.0 kB)\n",
      "Collecting filelock (from huggingface-hub>=0.20.0->sentence-transformers)\n",
      "  Using cached filelock-3.18.0-py3-none-any.whl.metadata (2.9 kB)\n",
      "Collecting fsspec>=2023.5.0 (from huggingface-hub>=0.20.0->sentence-transformers)\n",
      "  Using cached fsspec-2025.7.0-py3-none-any.whl.metadata (12 kB)\n",
      "Requirement already satisfied: packaging>=20.9 in e:\\data science projects\\personalized recommendation\\env\\lib\\site-packages (from huggingface-hub>=0.20.0->sentence-transformers) (25.0)\n",
      "Collecting pyyaml>=5.1 (from huggingface-hub>=0.20.0->sentence-transformers)\n",
      "  Using cached PyYAML-6.0.2-cp312-cp312-win_amd64.whl.metadata (2.1 kB)\n",
      "Collecting requests (from huggingface-hub>=0.20.0->sentence-transformers)\n",
      "  Using cached requests-2.32.4-py3-none-any.whl.metadata (4.9 kB)\n",
      "Collecting sympy>=1.13.3 (from torch>=1.11.0->sentence-transformers)\n",
      "  Using cached sympy-1.14.0-py3-none-any.whl.metadata (12 kB)\n",
      "Collecting networkx (from torch>=1.11.0->sentence-transformers)\n",
      "  Using cached networkx-3.5-py3-none-any.whl.metadata (6.3 kB)\n",
      "Collecting jinja2 (from torch>=1.11.0->sentence-transformers)\n",
      "  Using cached jinja2-3.1.6-py3-none-any.whl.metadata (2.9 kB)\n",
      "Collecting setuptools (from torch>=1.11.0->sentence-transformers)\n",
      "  Using cached setuptools-80.9.0-py3-none-any.whl.metadata (6.6 kB)\n",
      "Requirement already satisfied: colorama in e:\\data science projects\\personalized recommendation\\env\\lib\\site-packages (from tqdm->sentence-transformers) (0.4.6)\n",
      "Requirement already satisfied: numpy>=1.17 in e:\\data science projects\\personalized recommendation\\env\\lib\\site-packages (from transformers<5.0.0,>=4.41.0->sentence-transformers) (2.3.1)\n",
      "Collecting regex!=2019.12.17 (from transformers<5.0.0,>=4.41.0->sentence-transformers)\n",
      "  Using cached regex-2024.11.6-cp312-cp312-win_amd64.whl.metadata (41 kB)\n",
      "Collecting tokenizers<0.22,>=0.21 (from transformers<5.0.0,>=4.41.0->sentence-transformers)\n",
      "  Using cached tokenizers-0.21.2-cp39-abi3-win_amd64.whl.metadata (6.9 kB)\n",
      "Collecting safetensors>=0.4.3 (from transformers<5.0.0,>=4.41.0->sentence-transformers)\n",
      "  Using cached safetensors-0.5.3-cp38-abi3-win_amd64.whl.metadata (3.9 kB)\n",
      "Requirement already satisfied: joblib>=1.2.0 in e:\\data science projects\\personalized recommendation\\env\\lib\\site-packages (from scikit-learn->sentence-transformers) (1.5.1)\n",
      "Requirement already satisfied: threadpoolctl>=3.1.0 in e:\\data science projects\\personalized recommendation\\env\\lib\\site-packages (from scikit-learn->sentence-transformers) (3.6.0)\n",
      "Collecting mpmath<1.4,>=1.1.0 (from sympy>=1.13.3->torch>=1.11.0->sentence-transformers)\n",
      "  Using cached mpmath-1.3.0-py3-none-any.whl.metadata (8.6 kB)\n",
      "Collecting MarkupSafe>=2.0 (from jinja2->torch>=1.11.0->sentence-transformers)\n",
      "  Using cached MarkupSafe-3.0.2-cp312-cp312-win_amd64.whl.metadata (4.1 kB)\n",
      "Collecting charset_normalizer<4,>=2 (from requests->huggingface-hub>=0.20.0->sentence-transformers)\n",
      "  Using cached charset_normalizer-3.4.2-cp312-cp312-win_amd64.whl.metadata (36 kB)\n",
      "Collecting idna<4,>=2.5 (from requests->huggingface-hub>=0.20.0->sentence-transformers)\n",
      "  Using cached idna-3.10-py3-none-any.whl.metadata (10 kB)\n",
      "Collecting urllib3<3,>=1.21.1 (from requests->huggingface-hub>=0.20.0->sentence-transformers)\n",
      "  Using cached urllib3-2.5.0-py3-none-any.whl.metadata (6.5 kB)\n",
      "Collecting certifi>=2017.4.17 (from requests->huggingface-hub>=0.20.0->sentence-transformers)\n",
      "  Using cached certifi-2025.7.14-py3-none-any.whl.metadata (2.4 kB)\n",
      "Using cached sentence_transformers-5.0.0-py3-none-any.whl (470 kB)\n",
      "Using cached huggingface_hub-0.33.4-py3-none-any.whl (515 kB)\n",
      "Using cached torch-2.7.1-cp312-cp312-win_amd64.whl (216.1 MB)\n",
      "Using cached tqdm-4.67.1-py3-none-any.whl (78 kB)\n",
      "Downloading transformers-4.53.3-py3-none-any.whl (10.8 MB)\n",
      "   ---------------------------------------- 0.0/10.8 MB ? eta -:--:--\n",
      "   ---------- ----------------------------- 2.9/10.8 MB 18.6 MB/s eta 0:00:01\n",
      "   --------------- ------------------------ 4.2/10.8 MB 14.0 MB/s eta 0:00:01\n",
      "   -------------------- ------------------- 5.5/10.8 MB 10.2 MB/s eta 0:00:01\n",
      "   ------------------------- -------------- 6.8/10.8 MB 8.4 MB/s eta 0:00:01\n",
      "   ----------------------------- ---------- 7.9/10.8 MB 7.7 MB/s eta 0:00:01\n",
      "   ------------------------------- -------- 8.7/10.8 MB 7.0 MB/s eta 0:00:01\n",
      "   ---------------------------------- ----- 9.4/10.8 MB 6.5 MB/s eta 0:00:01\n",
      "   ----------------------------------- ---- 9.7/10.8 MB 5.9 MB/s eta 0:00:01\n",
      "   ------------------------------------ --- 10.0/10.8 MB 5.4 MB/s eta 0:00:01\n",
      "   ------------------------------------- -- 10.2/10.8 MB 5.1 MB/s eta 0:00:01\n",
      "   -------------------------------------- - 10.5/10.8 MB 4.8 MB/s eta 0:00:01\n",
      "   ---------------------------------------- 10.8/10.8 MB 4.4 MB/s eta 0:00:00\n",
      "Using cached typing_extensions-4.14.1-py3-none-any.whl (43 kB)\n",
      "Using cached fsspec-2025.7.0-py3-none-any.whl (199 kB)\n",
      "Using cached PyYAML-6.0.2-cp312-cp312-win_amd64.whl (156 kB)\n",
      "Using cached regex-2024.11.6-cp312-cp312-win_amd64.whl (273 kB)\n",
      "Using cached safetensors-0.5.3-cp38-abi3-win_amd64.whl (308 kB)\n",
      "Using cached sympy-1.14.0-py3-none-any.whl (6.3 MB)\n",
      "Using cached tokenizers-0.21.2-cp39-abi3-win_amd64.whl (2.5 MB)\n",
      "Using cached filelock-3.18.0-py3-none-any.whl (16 kB)\n",
      "Using cached jinja2-3.1.6-py3-none-any.whl (134 kB)\n",
      "Using cached networkx-3.5-py3-none-any.whl (2.0 MB)\n",
      "Using cached requests-2.32.4-py3-none-any.whl (64 kB)\n",
      "Using cached setuptools-80.9.0-py3-none-any.whl (1.2 MB)\n",
      "Using cached certifi-2025.7.14-py3-none-any.whl (162 kB)\n",
      "Using cached charset_normalizer-3.4.2-cp312-cp312-win_amd64.whl (105 kB)\n",
      "Using cached idna-3.10-py3-none-any.whl (70 kB)\n",
      "Using cached MarkupSafe-3.0.2-cp312-cp312-win_amd64.whl (15 kB)\n",
      "Using cached mpmath-1.3.0-py3-none-any.whl (536 kB)\n",
      "Using cached urllib3-2.5.0-py3-none-any.whl (129 kB)\n",
      "Installing collected packages: mpmath, urllib3, typing_extensions, tqdm, sympy, setuptools, safetensors, regex, pyyaml, networkx, MarkupSafe, idna, fsspec, filelock, charset_normalizer, certifi, requests, jinja2, torch, huggingface-hub, tokenizers, transformers, sentence-transformers\n",
      "Successfully installed MarkupSafe-3.0.2 certifi-2025.7.14 charset_normalizer-3.4.2 filelock-3.18.0 fsspec-2025.7.0 huggingface-hub-0.33.4 idna-3.10 jinja2-3.1.6 mpmath-1.3.0 networkx-3.5 pyyaml-6.0.2 regex-2024.11.6 requests-2.32.4 safetensors-0.5.3 sentence-transformers-5.0.0 setuptools-80.9.0 sympy-1.14.0 tokenizers-0.21.2 torch-2.7.1 tqdm-4.67.1 transformers-4.53.3 typing_extensions-4.14.1 urllib3-2.5.0\n"
     ]
    },
    {
     "name": "stderr",
     "output_type": "stream",
     "text": [
      "\n",
      "[notice] A new release of pip is available: 24.2 -> 25.1.1\n",
      "[notice] To update, run: python.exe -m pip install --upgrade pip\n"
     ]
    }
   ],
   "source": [
    "#!pip install sentence-transformers\n",
    "\n"
   ]
  },
  {
   "cell_type": "code",
   "execution_count": 16,
   "id": "0fa5535b",
   "metadata": {},
   "outputs": [],
   "source": [
    " # convert the column to a list of strings\n",
    "corpus = df['combined_text'].tolist() \n"
   ]
  },
  {
   "cell_type": "code",
   "execution_count": 17,
   "id": "fbe95b4d",
   "metadata": {},
   "outputs": [
    {
     "name": "stderr",
     "output_type": "stream",
     "text": [
      "Batches: 100%|██████████| 38/38 [00:49<00:00,  1.31s/it]\n"
     ]
    }
   ],
   "source": [
    "embeddings = model.encode(corpus, show_progress_bar=True)\n"
   ]
  },
  {
   "cell_type": "code",
   "execution_count": 18,
   "id": "5e6ac18a",
   "metadata": {},
   "outputs": [],
   "source": [
    "df['embedding'] = embeddings.tolist()\n"
   ]
  },
  {
   "cell_type": "code",
   "execution_count": 21,
   "id": "9936759d",
   "metadata": {},
   "outputs": [],
   "source": [
    "import numpy as np\n",
    "np.save('product_embeddings.npy', embeddings)\n",
    "df.to_pickle('product_data_with_embeddings.pkl')\n"
   ]
  },
  {
   "cell_type": "code",
   "execution_count": 22,
   "id": "dd4936a6",
   "metadata": {},
   "outputs": [],
   "source": [
    "from sklearn.metrics.pairwise import cosine_similarity\n",
    "import numpy as np\n",
    "\n",
    "def semantic_search(query, model, df, embeddings, top_k=5):\n",
    "    # Encode the user query into a vector\n",
    "    query_vec = model.encode([query])\n",
    "    \n",
    "    # Calculate cosine similarity between the query vector and product embeddings\n",
    "    similarities = cosine_similarity(query_vec, embeddings)[0]\n",
    "    \n",
    "    # Get the indices of top-k most similar products\n",
    "    top_indices = similarities.argsort()[-top_k:][::-1]\n",
    "    \n",
    "    # Return the top-k products with similarity scores\n",
    "    results = df.iloc[top_indices].copy()\n",
    "    results['similarity'] = similarities[top_indices]\n",
    "    return results[['product_name', 'brand', 'product_type', 'description', 'similarity']]\n"
   ]
  },
  {
   "cell_type": "code",
   "execution_count": 25,
   "id": "e41c31c7",
   "metadata": {},
   "outputs": [
    {
     "name": "stdout",
     "output_type": "stream",
     "text": [
      "                                          product_name       brand  \\\n",
      "279          Elsheskin Daily Protection For Oily Skin   ELSHE SKIN   \n",
      "203            BY ECOM All Day Sun Cream SPF50+ PA++++     BY ECOM   \n",
      "976  Somethinc Glowing Up Sunscreen Stick SPF 50++ ...   SOMETHINC   \n",
      "314  ERHA Perfect Shield Sunscreen Oily Skin Spf 30...       ERHA    \n",
      "280                Elsheskin Soothing Daily Protection  ELSHE SKIN   \n",
      "\n",
      "    product_type                                        description  \\\n",
      "279    Sunscreen  Sunscreen yang membantu melembabkan serta mera...   \n",
      "203    Sunscreen  Sunscreen 3-in-1 yang dapat melindungi kulit d...   \n",
      "976    Sunscreen  Transparent sunscreen stick with SPF50+ PA++++...   \n",
      "314    Sunscreen  ERHA Perfect Shield Sunscreen Oily Skin SPF 30...   \n",
      "280    Sunscreen  Sunscreen yang diformulasi khusus untuk kulit ...   \n",
      "\n",
      "     similarity  \n",
      "279    0.691883  \n",
      "203    0.677838  \n",
      "976    0.669937  \n",
      "314    0.667712  \n",
      "280    0.666340  \n"
     ]
    }
   ],
   "source": [
    "query=\"sunscreen for oily skin\"\n",
    "output=semantic_search(query,model,df,embeddings,top_k=5)\n",
    "print(output)"
   ]
  },
  {
   "cell_type": "code",
   "execution_count": null,
   "id": "127318f3",
   "metadata": {},
   "outputs": [],
   "source": []
  }
 ],
 "metadata": {
  "kernelspec": {
   "display_name": "env",
   "language": "python",
   "name": "python3"
  },
  "language_info": {
   "codemirror_mode": {
    "name": "ipython",
    "version": 3
   },
   "file_extension": ".py",
   "mimetype": "text/x-python",
   "name": "python",
   "nbconvert_exporter": "python",
   "pygments_lexer": "ipython3",
   "version": "3.12.5"
  }
 },
 "nbformat": 4,
 "nbformat_minor": 5
}
